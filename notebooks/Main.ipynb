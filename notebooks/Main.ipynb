{
 "cells": [
  {
   "cell_type": "code",
   "execution_count": null,
   "id": "5ef3eb0f",
   "metadata": {},
   "outputs": [],
   "source": [
    "import pandas as pd \n",
    "import numpy as np\n",
    "import sys\n",
    "import os\n",
    "sys.path.append('../src')\n",
    "\n",
    "# Import classes\n",
    "sys.path.append(os.path.abspath('../src'))\n",
    "sys.path.append(os.path.abspath('../Scripts'))\n",
    "\n",
    "from Preprocess import Preprocess\n"
   ]
  },
  {
   "cell_type": "code",
   "execution_count": null,
   "id": "d8c2ae91",
   "metadata": {},
   "outputs": [],
   "source": [
    "# Fetch data from Telegram\n",
    "api_id = YOUR_API_ID  \n",
    "api_hash = 'YOUR_API_HASH'  \n",
    "channels = ['shageronlinestore', 'ethiodeals', 'betochecommerce', 'addisfashionshop', 'tech4ethio']\n",
    "\n",
    "fetcher = TelegramFetcher(api_id, api_hash, channels)\n",
    "fetcher.run()"
   ]
  },
  {
   "cell_type": "code",
   "execution_count": null,
   "id": "7ba03823",
   "metadata": {},
   "outputs": [],
   "source": [
    "# Preprocess the fetched messages\n",
    "preprocessor = TextPreprocessor()\n",
    "\n"
   ]
  },
  {
   "cell_type": "code",
   "execution_count": null,
   "id": "e6bcad4f",
   "metadata": {},
   "outputs": [],
   "source": [
    "preprocessor.preprocess()"
   ]
  }
 ],
 "metadata": {
  "kernelspec": {
   "display_name": "Python 3",
   "language": "python",
   "name": "python3"
  },
  "language_info": {
   "codemirror_mode": {
    "name": "ipython",
    "version": 3
   },
   "file_extension": ".py",
   "mimetype": "text/x-python",
   "name": "python",
   "nbconvert_exporter": "python",
   "pygments_lexer": "ipython3",
   "version": "3.12.8"
  }
 },
 "nbformat": 4,
 "nbformat_minor": 5
}
