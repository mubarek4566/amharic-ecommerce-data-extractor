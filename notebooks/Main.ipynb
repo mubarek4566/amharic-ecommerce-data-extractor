{
 "cells": [
  {
   "cell_type": "code",
   "execution_count": null,
   "id": "5ef3eb0f",
   "metadata": {},
   "outputs": [
    {
     "ename": "ImportError",
     "evalue": "cannot import name 'Preprocess' from 'Preprocess' (c:\\Users\\Specter\\Documents\\Tenx_Academy\\Week-4\\amharic-ecommerce-data-extractor\\scripts\\Preprocess.py)",
     "output_type": "error",
     "traceback": [
      "\u001b[31m---------------------------------------------------------------------------\u001b[39m",
      "\u001b[31mImportError\u001b[39m                               Traceback (most recent call last)",
      "\u001b[36mCell\u001b[39m\u001b[36m \u001b[39m\u001b[32mIn[3]\u001b[39m\u001b[32m, line 11\u001b[39m\n\u001b[32m      8\u001b[39m sys.path.append(os.path.abspath(\u001b[33m'\u001b[39m\u001b[33m../src\u001b[39m\u001b[33m'\u001b[39m))\n\u001b[32m     10\u001b[39m \u001b[38;5;28;01mfrom\u001b[39;00m \u001b[34;01mdata_loader\u001b[39;00m \u001b[38;5;28;01mimport\u001b[39;00m DataLoad\n\u001b[32m---> \u001b[39m\u001b[32m11\u001b[39m \u001b[38;5;28;01mfrom\u001b[39;00m \u001b[34;01mPreprocess\u001b[39;00m \u001b[38;5;28;01mimport\u001b[39;00m Preprocess\n",
      "\u001b[31mImportError\u001b[39m: cannot import name 'Preprocess' from 'Preprocess' (c:\\Users\\Specter\\Documents\\Tenx_Academy\\Week-4\\amharic-ecommerce-data-extractor\\scripts\\Preprocess.py)"
     ]
    }
   ],
   "source": [
    "\n",
    "import pandas as pd \n",
    "import numpy as np\n",
    "import sys\n",
    "import os\n",
    "\n",
    "# Import classes\n",
    "sys.path.append(os.path.abspath('../scripts'))\n",
    "sys.path.append(os.path.abspath('../src'))\n",
    "\n",
    "from data_loader import DataLoad\n",
    "\n"
   ]
  },
  {
   "cell_type": "code",
   "execution_count": null,
   "id": "7ba03823",
   "metadata": {},
   "outputs": [],
   "source": [
    "preprocess = Preprocess()\n",
    "data_load = DataLoad()\n"
   ]
  },
  {
   "cell_type": "markdown",
   "id": "cfcf00d7",
   "metadata": {},
   "source": [
    "### Read and load data of different files and merge them in one dataframe"
   ]
  },
  {
   "cell_type": "code",
   "execution_count": null,
   "id": "967b007d",
   "metadata": {},
   "outputs": [],
   "source": [
    "result = data_load.read_csv_txt_data()"
   ]
  },
  {
   "cell_type": "code",
   "execution_count": null,
   "id": "10d023a8",
   "metadata": {},
   "outputs": [],
   "source": []
  }
 ],
 "metadata": {
  "kernelspec": {
   "display_name": "Python 3",
   "language": "python",
   "name": "python3"
  },
  "language_info": {
   "codemirror_mode": {
    "name": "ipython",
    "version": 3
   },
   "file_extension": ".py",
   "mimetype": "text/x-python",
   "name": "python",
   "nbconvert_exporter": "python",
   "pygments_lexer": "ipython3",
   "version": "3.12.8"
  }
 },
 "nbformat": 4,
 "nbformat_minor": 5
}
